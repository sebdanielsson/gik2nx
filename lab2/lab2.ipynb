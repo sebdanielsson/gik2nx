{
 "cells": [
  {
   "cell_type": "markdown",
   "metadata": {},
   "source": [
    "# GIK2NX - Lab 2"
   ]
  },
  {
   "cell_type": "markdown",
   "metadata": {},
   "source": [
    "## Task 1"
   ]
  },
  {
   "cell_type": "code",
   "execution_count": null,
   "metadata": {},
   "outputs": [],
   "source": [
    "# Find the value of x\n",
    "import time\n",
    "\n",
    "start_time = time.time()\n",
    "def calculate_x(a, b):\n",
    "    if not (0 <= a <= 9 and 0 <= b <= 9):\n",
    "        raise ValueError(\"a and b must be positive integers less than 10.\")\n",
    "    x = a + b\n",
    "    return x\n",
    "\n",
    "\n",
    "a = 5\n",
    "b = 7\n",
    "x = calculate_x(a, b)\n",
    "\n",
    "end_time = time.time()\n",
    "execution_time = end_time - start_time\n",
    "\n",
    "print(f\"Execution time (seconds): {execution_time}\")\n",
    "\n",
    "print(f\"Result: {x} = {a} + {b}\")\n"
   ]
  },
  {
   "cell_type": "markdown",
   "metadata": {},
   "source": [
    "## Task 2"
   ]
  },
  {
   "cell_type": "code",
   "execution_count": null,
   "metadata": {},
   "outputs": [],
   "source": [
    "# Find the value of y\n",
    "import numpy as np\n",
    "import time\n",
    "\n",
    "start_time = time.time()\n",
    "\n",
    "def calculate_y(a, b):\n",
    "    a = np.array(a, dtype=np.float64)\n",
    "    b = np.array(b, dtype=np.float64)\n",
    "\n",
    "    # Check if elements in a and b are within the specified range\n",
    "    if np.any(a >= 100) or np.any(b >= 100) or np.any(a <= 0) or np.any(b <= 0):\n",
    "        raise ValueError(\"Elements in a and b must be positive integers less than 100.\")\n",
    "\n",
    "    # Ensure the length of a and b does not exceed n=50 and m=40 respectively\n",
    "    if len(a) > 50 or len(b) > 40:\n",
    "        raise ValueError(\"Length of array a must not exceed 50 and length of array b must not exceed 40.\")\n",
    "\n",
    "    # Calculate the first summation\n",
    "    n = len(a)\n",
    "    a_padded = np.pad(a, (0, max(0, n - len(a))), constant_values=0)[:n]\n",
    "    b_padded = np.pad(b, (0, max(0, n - len(b))), constant_values=0)[:n]\n",
    "    first_sum = np.sum((a_padded**4 + b_padded**2)**3)\n",
    "\n",
    "    # Calculate the second summation\n",
    "    m = len(b)\n",
    "    a_padded_m = np.pad(a, (0, max(0, m - len(a))), constant_values=0)[:m]\n",
    "    b_padded_m = np.pad(b, (0, max(0, m - len(b))), constant_values=0)[:m]\n",
    "    second_sum = np.sum((a_padded_m**2 - b_padded_m)**2)\n",
    "\n",
    "    # Return the sum of the two summations\n",
    "    return first_sum + second_sum\n",
    "\n",
    "\n",
    "# Generate random arrays for a and b with integers between 1 and 100\n",
    "np.random.seed(1234)  # Set a seed for reproducibility\n",
    "a = np.random.randint(1, 100, 50)\n",
    "b = np.random.randint(1, 100, 40)\n",
    "\n",
    "# Print a and b\n",
    "# print(a)\n",
    "# print(b)\n",
    "\n",
    "# Calculate the result of the expression\n",
    "result_with_large_numbers = calculate_y(a, b)\n",
    "\n",
    "end_time = time.time()\n",
    "execution_time = end_time - start_time\n",
    "\n",
    "print(f\"Execution time (seconds): {execution_time}\")\n",
    "print(\"Result:\", result_with_large_numbers)\n"
   ]
  },
  {
   "cell_type": "markdown",
   "metadata": {},
   "source": [
    "## Task 3"
   ]
  },
  {
   "cell_type": "code",
   "execution_count": null,
   "metadata": {},
   "outputs": [],
   "source": [
    "# Find the value of Z\n",
    "import numpy as np\n",
    "import time\n",
    "\n",
    "start_time = time.time()\n",
    "\n",
    "def calculate_z(A1, A2, B1, B2):\n",
    "    # Ensure the dimensions of A1, A2, B1, and B2 are 25x25 and the elements are positive integers less than 100\n",
    "    if A1.shape != (25, 25) or A2.shape != (25, 25) or B1.shape != (25, 25) or B2.shape != (25, 25):\n",
    "        raise ValueError(\"Dimensions of A1, A2, B1, and B2 must be 25x25.\")\n",
    "    if np.any(A1 >= 100) or np.any(A2 >= 100) or np.any(B1 >= 100) or np.any(B2 >= 100) or np.any(A1 <= 0) or np.any(A2 <= 0) or np.any(B1 <= 0) or np.any(B2 <= 0):\n",
    "        raise ValueError(\"Elements in A1, A2, B1, and B2 must be positive integers less than 100.\")\n",
    "\n",
    "    # Calculate Z1, Z2, and Z\n",
    "    Z1 = A1 * B1\n",
    "    Z2 = A2 * B2\n",
    "    Z = Z1 + Z2\n",
    "    return Z\n",
    "\n",
    "\n",
    "# Generate 2D matrices for A1, A2, B1, and B2 with integers between 1 and 100\n",
    "np.random.seed(1234)  # Set a seed for reproducibility\n",
    "A1 = np.random.randint(1, 100, (25, 25))\n",
    "A2 = np.random.randint(1, 100, (25, 25))\n",
    "B1 = np.random.randint(1, 100, (25, 25))\n",
    "B2 = np.random.randint(1, 100, (25, 25))\n",
    "\n",
    "# Calculate Z\n",
    "Z = calculate_z(A1, A2, B1, B2)\n",
    "\n",
    "end_time = time.time()\n",
    "execution_time = end_time - start_time\n",
    "\n",
    "print(f\"Execution time (seconds): {execution_time}\")\n",
    "print(f\"Result: {Z}\")\n"
   ]
  },
  {
   "cell_type": "code",
   "execution_count": null,
   "metadata": {},
   "outputs": [],
   "source": [
    "# Record the start time\n",
    "$start = Get-Date\n",
    "\n",
    "# Execute the Python script and capture its output\n",
    "$output = python .\\lab2-task3.py\n",
    "\n",
    "# Record the end time\n",
    "$end = Get-Date\n",
    "\n",
    "# Calculate the duration\n",
    "$duration = $end - $start\n",
    "\n",
    "# Display the output from the Python script\n",
    "Write-Host $output\n",
    "\n",
    "# Display the execution time in seconds\n",
    "Write-Host \"Execution time (in seconds):\" $duration.TotalSeconds\n"
   ]
  }
 ],
 "metadata": {
  "kernelspec": {
   "display_name": "Python 3",
   "language": "python",
   "name": "python3"
  },
  "language_info": {
   "codemirror_mode": {
    "name": "ipython",
    "version": 3
   },
   "file_extension": ".py",
   "mimetype": "text/x-python",
   "name": "python",
   "nbconvert_exporter": "python",
   "pygments_lexer": "ipython3",
   "version": "3.10.13"
  }
 },
 "nbformat": 4,
 "nbformat_minor": 2
}
