{
 "cells": [
  {
   "cell_type": "code",
   "execution_count": 203,
   "metadata": {},
   "outputs": [],
   "source": [
    "import numpy as np\n",
    "\n",
    "def calculate_expression(a, b):\n",
    "    a = np.array(a, dtype=np.float64)\n",
    "    b = np.array(b, dtype=np.float64)\n",
    "\n",
    "    # Check if elements in a and b are within the specified range\n",
    "    if np.any(a >= 100) or np.any(b >= 100) or np.any(a <= 0) or np.any(b <= 0):\n",
    "        raise ValueError(\"Elements in a and b must be positive integers less than 100.\")\n",
    "\n",
    "    # Ensure the length of a and b does not exceed n=50 and m=40 respectively\n",
    "    if len(a) > 50 or len(b) > 40:\n",
    "        raise ValueError(\"Length of array a must not exceed 50 and length of array b must not exceed 40.\")\n",
    "\n",
    "    # Calculate the first summation\n",
    "    n = len(a)\n",
    "    a_padded = np.pad(a, (0, max(0, n - len(a))), constant_values=0)[:n]\n",
    "    b_padded = np.pad(b, (0, max(0, n - len(b))), constant_values=0)[:n]\n",
    "    first_sum = np.sum((a_padded**4 + b_padded**2)**3)\n",
    "\n",
    "    # Calculate the second summation\n",
    "    m = len(b)\n",
    "    a_padded_m = np.pad(a, (0, max(0, m - len(a))), constant_values=0)[:m]\n",
    "    b_padded_m = np.pad(b, (0, max(0, m - len(b))), constant_values=0)[:m]\n",
    "    second_sum = np.sum((a_padded_m**2 - b_padded_m)**2)\n",
    "\n",
    "    # Return the sum of the two summations\n",
    "    return first_sum + second_sum\n"
   ]
  },
  {
   "cell_type": "code",
   "execution_count": 204,
   "metadata": {},
   "outputs": [
    {
     "name": "stdout",
     "output_type": "stream",
     "text": [
      "[41 56 66 28 16 16 42 78  7 97 93 57 53  7 79 32  7 34 59 47 27 52 33 61\n",
      " 47 96  8 50 40 66  6 28 39 46 24 13 10 30 30 14 88 25 10 69 38 57 76 87\n",
      " 61 25]\n",
      "[53 54 99 47 34 14 98 72 13 74 47 30 13 56 49 36 35 59 61  2 18 44 56 10\n",
      " 56 17 68 42 87 48 85 89 98 59 85 86 37 13 27  3]\n",
      "Result: 2.3132604538679542e+24\n"
     ]
    }
   ],
   "source": [
    "# Generate random arrays for a and b with integers between 1 and 100\n",
    "#np.random.seed(0)  # Set a seed for reproducibility\n",
    "a = np.random.randint(1, 100, 50)\n",
    "b = np.random.randint(1, 100, 40)\n",
    "\n",
    "# Print a and b\n",
    "print(a)\n",
    "print(b)\n",
    "\n",
    "# Calculate the result of the expression\n",
    "result_with_large_numbers = calculate_expression(a, b)\n",
    "print(\"Result:\", result_with_large_numbers)\n"
   ]
  }
 ],
 "metadata": {
  "kernelspec": {
   "display_name": "Python 3",
   "language": "python",
   "name": "python3"
  },
  "language_info": {
   "codemirror_mode": {
    "name": "ipython",
    "version": 3
   },
   "file_extension": ".py",
   "mimetype": "text/x-python",
   "name": "python",
   "nbconvert_exporter": "python",
   "pygments_lexer": "ipython3",
   "version": "3.11.6"
  }
 },
 "nbformat": 4,
 "nbformat_minor": 2
}
