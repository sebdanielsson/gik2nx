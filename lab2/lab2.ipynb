{
 "cells": [
  {
   "cell_type": "markdown",
   "metadata": {},
   "source": [
    "# GIK2NX - Lab 2"
   ]
  },
  {
   "cell_type": "markdown",
   "metadata": {},
   "source": [
    "## Task 1"
   ]
  },
  {
   "cell_type": "code",
   "execution_count": 2,
   "metadata": {},
   "outputs": [
    {
     "name": "stdout",
     "output_type": "stream",
     "text": [
      "12 = 5 + 7\n"
     ]
    }
   ],
   "source": [
    "# Find the value of x\n",
    "def calculate_x(a, b):\n",
    "    if not (0 <= a <= 9 and 0 <= b <= 9):\n",
    "        raise ValueError(\"a and b must be positive integers less than 10.\")\n",
    "    x = a + b\n",
    "    return x\n",
    "\n",
    "\n",
    "a = 5\n",
    "b = 7\n",
    "x = calculate_x(a, b)\n",
    "\n",
    "print(f\"{x} = {a} + {b}\")\n"
   ]
  },
  {
   "cell_type": "markdown",
   "metadata": {},
   "source": [
    "## Task 2"
   ]
  },
  {
   "cell_type": "code",
   "execution_count": 3,
   "metadata": {},
   "outputs": [
    {
     "name": "stdout",
     "output_type": "stream",
     "text": [
      "Result: 2.6666864004685527e+24\n"
     ]
    }
   ],
   "source": [
    "# Find the value of y\n",
    "import numpy as np\n",
    "\n",
    "def calculate_y(a, b):\n",
    "    a = np.array(a, dtype=np.float64)\n",
    "    b = np.array(b, dtype=np.float64)\n",
    "\n",
    "    # Check if elements in a and b are within the specified range\n",
    "    if np.any(a >= 100) or np.any(b >= 100) or np.any(a <= 0) or np.any(b <= 0):\n",
    "        raise ValueError(\"Elements in a and b must be positive integers less than 100.\")\n",
    "\n",
    "    # Ensure the length of a and b does not exceed n=50 and m=40 respectively\n",
    "    if len(a) > 50 or len(b) > 40:\n",
    "        raise ValueError(\"Length of array a must not exceed 50 and length of array b must not exceed 40.\")\n",
    "\n",
    "    # Calculate the first summation\n",
    "    n = len(a)\n",
    "    a_padded = np.pad(a, (0, max(0, n - len(a))), constant_values=0)[:n]\n",
    "    b_padded = np.pad(b, (0, max(0, n - len(b))), constant_values=0)[:n]\n",
    "    first_sum = np.sum((a_padded**4 + b_padded**2)**3)\n",
    "\n",
    "    # Calculate the second summation\n",
    "    m = len(b)\n",
    "    a_padded_m = np.pad(a, (0, max(0, m - len(a))), constant_values=0)[:m]\n",
    "    b_padded_m = np.pad(b, (0, max(0, m - len(b))), constant_values=0)[:m]\n",
    "    second_sum = np.sum((a_padded_m**2 - b_padded_m)**2)\n",
    "\n",
    "    # Return the sum of the two summations\n",
    "    return first_sum + second_sum\n",
    "\n",
    "\n",
    "# Generate random arrays for a and b with integers between 1 and 100\n",
    "np.random.seed(1234)  # Set a seed for reproducibility\n",
    "a = np.random.randint(1, 100, 50)\n",
    "b = np.random.randint(1, 100, 40)\n",
    "\n",
    "# Print a and b\n",
    "# print(a)\n",
    "# print(b)\n",
    "\n",
    "# Calculate the result of the expression\n",
    "result_with_large_numbers = calculate_y(a, b)\n",
    "print(\"Result:\", result_with_large_numbers)\n"
   ]
  },
  {
   "cell_type": "markdown",
   "metadata": {},
   "source": [
    "## Task 3"
   ]
  },
  {
   "cell_type": "code",
   "execution_count": 4,
   "metadata": {},
   "outputs": [
    {
     "name": "stdout",
     "output_type": "stream",
     "text": [
      "[[ 6858  7941  4254 ...  1908  5574  4375]\n",
      " [ 3273  4953  6849 ...  8337  3345  7007]\n",
      " [ 5809  9444  6024 ...  6532  3935  9136]\n",
      " ...\n",
      " [13851  3288  7610 ... 10072  6107  3871]\n",
      " [ 1521  4914  4452 ...  2858   948  2970]\n",
      " [ 5602  2416  4606 ... 10571  4789  1835]]\n"
     ]
    }
   ],
   "source": [
    "# Find the value of Z\n",
    "import numpy as np\n",
    "\n",
    "matrix_rows = 250\n",
    "matrix_cols = 250\n",
    "\n",
    "def calculate_z(A1, A2, B1, B2):\n",
    "    if A1.shape != (matrix_rows, matrix_cols) or A2.shape != (matrix_rows, matrix_cols) or B1.shape != (matrix_rows, matrix_cols) or B2.shape != (matrix_rows, matrix_cols):\n",
    "        raise ValueError(\"Dimensions of A1, A2, B1, and B2 must be ${matrix_rows}x${matrix_cols}.\")\n",
    "    if np.any(A1 >= 100) or np.any(A2 >= 100) or np.any(B1 >= 100) or np.any(B2 >= 100) or np.any(A1 <= 0) or np.any(A2 <= 0) or np.any(B1 <= 0) or np.any(B2 <= 0):\n",
    "        raise ValueError(\"Elements in A1, A2, B1, and B2 must be positive integers less than 100.\")\n",
    "\n",
    "    # Calculate Z1, Z2, and Z\n",
    "    Z1 = A1 * B1\n",
    "    Z2 = A2 * B2\n",
    "    Z = Z1 + Z2\n",
    "    return Z\n",
    "\n",
    "\n",
    "# Generate 2D matrices for A1, A2, B1, and B2 with integers between 1 and 100\n",
    "np.random.seed(1234)  # Set a seed for reproducibility\n",
    "A1 = np.random.randint(1, 100, (matrix_rows, matrix_cols))\n",
    "A2 = np.random.randint(1, 100, (matrix_rows, matrix_cols))\n",
    "B1 = np.random.randint(1, 100, (matrix_rows, matrix_cols))\n",
    "B2 = np.random.randint(1, 100, (matrix_rows, matrix_cols))\n",
    "\n",
    "# Calculate Z\n",
    "Z = calculate_z(A1, A2, B1, B2)\n",
    "\n",
    "# Print Z\n",
    "print(Z)\n"
   ]
  }
 ],
 "metadata": {
  "kernelspec": {
   "display_name": "Python 3",
   "language": "python",
   "name": "python3"
  },
  "language_info": {
   "codemirror_mode": {
    "name": "ipython",
    "version": 3
   },
   "file_extension": ".py",
   "mimetype": "text/x-python",
   "name": "python",
   "nbconvert_exporter": "python",
   "pygments_lexer": "ipython3",
   "version": "3.10.13"
  }
 },
 "nbformat": 4,
 "nbformat_minor": 2
}
