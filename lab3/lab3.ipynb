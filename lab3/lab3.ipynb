{
 "cells": [
  {
   "cell_type": "code",
   "execution_count": null,
   "metadata": {},
   "outputs": [],
   "source": [
    "import pandas as pd\n",
    "\n",
    "data = pd.read_csv('dataset.csv', index_col='date')\n",
    "data.index.freq = '1min'\n",
    "data.index = pd.DatetimeIndex(data.index).to_period('1min')\n",
    "\n",
    "co2_data = data['CO2']\n",
    "\n",
    "split_point = int(0.7 * len(co2_data))\n",
    "train, test = co2_data[:split_point], co2_data[split_point:]\n"
   ]
  },
  {
   "cell_type": "code",
   "execution_count": null,
   "metadata": {},
   "outputs": [],
   "source": [
    "import matplotlib.pyplot as plt\n",
    "import seaborn as sns\n",
    "\n",
    "# Scatterplots\n",
    "sns.pairplot(data)\n",
    "plt.show()\n",
    "\n",
    "# Correlation Matrix\n",
    "corr_matrix = data.corr()\n",
    "sns.heatmap(corr_matrix, annot=True)\n",
    "plt.show()\n"
   ]
  },
  {
   "cell_type": "code",
   "execution_count": null,
   "metadata": {},
   "outputs": [],
   "source": [
    "from statsmodels.tsa.stattools import adfuller\n",
    "from pmdarima import auto_arima\n",
    "\n",
    "# Check for stationarity in the CO2 data\n",
    "adf_result = adfuller(train)\n",
    "adf_result\n",
    "\n",
    "# Finding best ARIMA parameters\n",
    "auto_model = auto_arima(train, seasonal=False, trace=True)  # error_action='ignore', suppress_warnings=True\n",
    "auto_model.summary()\n"
   ]
  },
  {
   "cell_type": "code",
   "execution_count": null,
   "metadata": {},
   "outputs": [],
   "source": [
    "from statsmodels.tsa.arima.model import ARIMA\n",
    "\n",
    "# Stepwise approach for prediction\n",
    "forecast = []\n",
    "\n",
    "for t in test:\n",
    "    # Fit the model\n",
    "    model = ARIMA(train, order=auto_model.order)\n",
    "    model_fit = model.fit()\n",
    "    \n",
    "    # Forecast the next value\n",
    "    forecast_value = model_fit.forecast(steps=1)\n",
    "    forecast.append(forecast_value.iloc[0])\n",
    "\n",
    "    # Update the train dataset with the actual observed value\n",
    "    new_data = pd.Series([t], index=[test.index[len(forecast) - 1]])\n",
    "    train = pd.concat([train, new_data])\n"
   ]
  },
  {
   "cell_type": "code",
   "execution_count": null,
   "metadata": {},
   "outputs": [],
   "source": [
    "import numpy as np\n",
    "\n",
    "# Plot the predictions against the actual values\n",
    "plt.figure(figsize=(10, 6))\n",
    "plt.plot(train.index, train, label='Train')\n",
    "plt.plot(test.index, test, label='Test')\n",
    "plt.plot(test.index, forecast, label='Forecast')\n",
    "plt.title('CO2 Forecast vs Actual (Rolling Forecast)')\n",
    "plt.xlabel('Date')\n",
    "plt.ylabel('CO2 Levels')\n",
    "plt.legend()\n",
    "plt.show()\n",
    "\n",
    "# Mean Absolute Error (MAE)\n",
    "MAE = np.mean(abs(forecast - test))\n",
    "print('Mean Absolute Error (MAE): ' + str(np.round(MAE, 2)))\n"
   ]
  },
  {
   "cell_type": "code",
   "execution_count": null,
   "metadata": {},
   "outputs": [],
   "source": []
  }
 ],
 "metadata": {
  "kernelspec": {
   "display_name": "Python 3",
   "language": "python",
   "name": "python3"
  },
  "language_info": {
   "codemirror_mode": {
    "name": "ipython",
    "version": 3
   },
   "file_extension": ".py",
   "mimetype": "text/x-python",
   "name": "python",
   "nbconvert_exporter": "python",
   "pygments_lexer": "ipython3",
   "version": "3.10.13"
  }
 },
 "nbformat": 4,
 "nbformat_minor": 2
}
